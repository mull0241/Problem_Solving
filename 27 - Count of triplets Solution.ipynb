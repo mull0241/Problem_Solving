{
 "cells": [
  {
   "cell_type": "markdown",
   "metadata": {},
   "source": [
    "# Problem"
   ]
  },
  {
   "cell_type": "markdown",
   "metadata": {},
   "source": [
    "Given an array of unique integers and a sum value, can you write code to find the number of triplets with a sum smaller than the given value?\n",
    "For example:\n",
    "    \n",
    "#Given the following\n",
    "    \n",
    "Array = [5, 1, 3, 4, 7]\n",
    "    \n",
    "Sum value = 12\n",
    "    \n",
    "\n",
    "    \n",
    "#Output: \n",
    "    \n",
    "4\n",
    "    \n",
    "#Explanation: \n",
    "    \n",
    "#There are 4 triplets that have a sum less than 12: \n",
    "    \n",
    "#(1, 3, 4), (1, 3, 5), (1, 3, 7), and (1, 4, 5)\n"
   ]
  },
  {
   "cell_type": "code",
   "execution_count": 1,
   "metadata": {},
   "outputs": [],
   "source": [
    "def count_of_triplets(array, sum_value): \n",
    "    count_triplets = 0\n",
    "    array_length = len(array) \n",
    "\n",
    "    for i in range( 0 , array_length-2): \n",
    "        for j in range( i+1 ,array_length-1): \n",
    "            for k in range( j+1, array_length): \n",
    "                if (array[i] + array[j] + array[k] < sum_value): \n",
    "                    count_triplets+=1\n",
    " \n",
    "    return count_triplets \n"
   ]
  },
  {
   "cell_type": "code",
   "execution_count": 4,
   "metadata": {},
   "outputs": [],
   "source": [
    "Array = [5, 1, 3, 4, 7]\n",
    "sum_value = 12"
   ]
  },
  {
   "cell_type": "code",
   "execution_count": 10,
   "metadata": {},
   "outputs": [
    {
     "data": {
      "text/plain": [
       "4"
      ]
     },
     "execution_count": 10,
     "metadata": {},
     "output_type": "execute_result"
    }
   ],
   "source": [
    "count_of_triplets(Array, sum_value)"
   ]
  },
  {
   "cell_type": "code",
   "execution_count": null,
   "metadata": {},
   "outputs": [],
   "source": []
  },
  {
   "cell_type": "code",
   "execution_count": null,
   "metadata": {},
   "outputs": [],
   "source": []
  },
  {
   "cell_type": "code",
   "execution_count": null,
   "metadata": {},
   "outputs": [],
   "source": []
  }
 ],
 "metadata": {
  "kernelspec": {
   "display_name": "Python 3",
   "language": "python",
   "name": "python3"
  },
  "language_info": {
   "codemirror_mode": {
    "name": "ipython",
    "version": 3
   },
   "file_extension": ".py",
   "mimetype": "text/x-python",
   "name": "python",
   "nbconvert_exporter": "python",
   "pygments_lexer": "ipython3",
   "version": "3.8.5"
  }
 },
 "nbformat": 4,
 "nbformat_minor": 4
}
