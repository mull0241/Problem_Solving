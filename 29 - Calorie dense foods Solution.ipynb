{
 "cells": [
  {
   "cell_type": "markdown",
   "metadata": {},
   "source": [
    "# Problem"
   ]
  },
  {
   "cell_type": "markdown",
   "metadata": {},
   "source": [
    "Suppose you are given the following dataframe containing food, weight, and calories. You'll notice the foods have varying weights associated with them:\n",
    "\n",
    "\n",
    "    \n",
    "food\tgrams\tcalories <br>\n",
    "0\tbacon\t50\t271      <br>\n",
    "1\tstrawberries\t200\t64  <br>\n",
    "2\tbanana\t100\t89          <br>\n",
    "3\tspinach\t200\t46          <br>\n",
    "4\tchicken breast\t50\t80  <br>\n",
    "5\tpeanuts\t100\t567         <br>\n",
    "    \n",
    "Using Python (Pandas), can you sort the dataframe in descending order with the most calorically dense food (normalized for weight) at the top?"
   ]
  },
  {
   "cell_type": "markdown",
   "metadata": {},
   "source": [
    "Step 1 - build the data frame:"
   ]
  },
  {
   "cell_type": "code",
   "execution_count": 2,
   "metadata": {},
   "outputs": [],
   "source": [
    "import pandas as pd"
   ]
  },
  {
   "cell_type": "code",
   "execution_count": 3,
   "metadata": {},
   "outputs": [],
   "source": [
    "df = pd.DataFrame(columns=['Food', 'Grams', 'Calories'])"
   ]
  },
  {
   "cell_type": "code",
   "execution_count": 4,
   "metadata": {},
   "outputs": [
    {
     "name": "stderr",
     "output_type": "stream",
     "text": [
      "<ipython-input-4-5e0d30638e06>:1: FutureWarning: The frame.append method is deprecated and will be removed from pandas in a future version. Use pandas.concat instead.\n",
      "  df = df.append({'Food': 'bacon', 'Grams': 50, 'Calories': 271 }, ignore_index=True)\n",
      "<ipython-input-4-5e0d30638e06>:2: FutureWarning: The frame.append method is deprecated and will be removed from pandas in a future version. Use pandas.concat instead.\n",
      "  df = df.append({'Food': 'strawberries', 'Grams': 200, 'Calories': 64}, ignore_index=True)\n",
      "<ipython-input-4-5e0d30638e06>:3: FutureWarning: The frame.append method is deprecated and will be removed from pandas in a future version. Use pandas.concat instead.\n",
      "  df = df.append({'Food': 'banana', 'Grams': 100, 'Calories': 89}, ignore_index=True)\n",
      "<ipython-input-4-5e0d30638e06>:4: FutureWarning: The frame.append method is deprecated and will be removed from pandas in a future version. Use pandas.concat instead.\n",
      "  df = df.append({'Food': 'spinach', 'Grams': 200, 'Calories': 46}, ignore_index=True)\n",
      "<ipython-input-4-5e0d30638e06>:5: FutureWarning: The frame.append method is deprecated and will be removed from pandas in a future version. Use pandas.concat instead.\n",
      "  df = df.append({'Food': 'chicken breast', 'Grams': 50, 'Calories': 80}, ignore_index=True)\n",
      "<ipython-input-4-5e0d30638e06>:6: FutureWarning: The frame.append method is deprecated and will be removed from pandas in a future version. Use pandas.concat instead.\n",
      "  df = df.append({'Food': 'peanuts', 'Grams': 100, 'Calories': 567}, ignore_index=True)\n"
     ]
    },
    {
     "data": {
      "text/html": [
       "<div>\n",
       "<style scoped>\n",
       "    .dataframe tbody tr th:only-of-type {\n",
       "        vertical-align: middle;\n",
       "    }\n",
       "\n",
       "    .dataframe tbody tr th {\n",
       "        vertical-align: top;\n",
       "    }\n",
       "\n",
       "    .dataframe thead th {\n",
       "        text-align: right;\n",
       "    }\n",
       "</style>\n",
       "<table border=\"1\" class=\"dataframe\">\n",
       "  <thead>\n",
       "    <tr style=\"text-align: right;\">\n",
       "      <th></th>\n",
       "      <th>Food</th>\n",
       "      <th>Grams</th>\n",
       "      <th>Calories</th>\n",
       "    </tr>\n",
       "  </thead>\n",
       "  <tbody>\n",
       "    <tr>\n",
       "      <th>0</th>\n",
       "      <td>bacon</td>\n",
       "      <td>50</td>\n",
       "      <td>271</td>\n",
       "    </tr>\n",
       "    <tr>\n",
       "      <th>1</th>\n",
       "      <td>strawberries</td>\n",
       "      <td>200</td>\n",
       "      <td>64</td>\n",
       "    </tr>\n",
       "    <tr>\n",
       "      <th>2</th>\n",
       "      <td>banana</td>\n",
       "      <td>100</td>\n",
       "      <td>89</td>\n",
       "    </tr>\n",
       "    <tr>\n",
       "      <th>3</th>\n",
       "      <td>spinach</td>\n",
       "      <td>200</td>\n",
       "      <td>46</td>\n",
       "    </tr>\n",
       "    <tr>\n",
       "      <th>4</th>\n",
       "      <td>chicken breast</td>\n",
       "      <td>50</td>\n",
       "      <td>80</td>\n",
       "    </tr>\n",
       "    <tr>\n",
       "      <th>5</th>\n",
       "      <td>peanuts</td>\n",
       "      <td>100</td>\n",
       "      <td>567</td>\n",
       "    </tr>\n",
       "  </tbody>\n",
       "</table>\n",
       "</div>"
      ],
      "text/plain": [
       "             Food Grams Calories\n",
       "0           bacon    50      271\n",
       "1    strawberries   200       64\n",
       "2          banana   100       89\n",
       "3         spinach   200       46\n",
       "4  chicken breast    50       80\n",
       "5         peanuts   100      567"
      ]
     },
     "execution_count": 4,
     "metadata": {},
     "output_type": "execute_result"
    }
   ],
   "source": [
    "df = df.append({'Food': 'bacon', 'Grams': 50, 'Calories': 271 }, ignore_index=True)\n",
    "df = df.append({'Food': 'strawberries', 'Grams': 200, 'Calories': 64}, ignore_index=True)\n",
    "df = df.append({'Food': 'banana', 'Grams': 100, 'Calories': 89}, ignore_index=True)\n",
    "df = df.append({'Food': 'spinach', 'Grams': 200, 'Calories': 46}, ignore_index=True)\n",
    "df = df.append({'Food': 'chicken breast', 'Grams': 50, 'Calories': 80}, ignore_index=True)\n",
    "df = df.append({'Food': 'peanuts', 'Grams': 100, 'Calories': 567}, ignore_index=True)\n",
    "df"
   ]
  },
  {
   "cell_type": "markdown",
   "metadata": {},
   "source": [
    "Step 2: Normalize\n",
    "    \n",
    "We can normalize the data by determining the number of calories per gram so that the can be easily compared..."
   ]
  },
  {
   "cell_type": "code",
   "execution_count": 7,
   "metadata": {},
   "outputs": [
    {
     "data": {
      "text/html": [
       "<div>\n",
       "<style scoped>\n",
       "    .dataframe tbody tr th:only-of-type {\n",
       "        vertical-align: middle;\n",
       "    }\n",
       "\n",
       "    .dataframe tbody tr th {\n",
       "        vertical-align: top;\n",
       "    }\n",
       "\n",
       "    .dataframe thead th {\n",
       "        text-align: right;\n",
       "    }\n",
       "</style>\n",
       "<table border=\"1\" class=\"dataframe\">\n",
       "  <thead>\n",
       "    <tr style=\"text-align: right;\">\n",
       "      <th></th>\n",
       "      <th>Food</th>\n",
       "      <th>Grams</th>\n",
       "      <th>Calories</th>\n",
       "      <th>Calories/Gram</th>\n",
       "    </tr>\n",
       "  </thead>\n",
       "  <tbody>\n",
       "    <tr>\n",
       "      <th>0</th>\n",
       "      <td>bacon</td>\n",
       "      <td>50</td>\n",
       "      <td>271</td>\n",
       "      <td>5.42</td>\n",
       "    </tr>\n",
       "    <tr>\n",
       "      <th>1</th>\n",
       "      <td>strawberries</td>\n",
       "      <td>200</td>\n",
       "      <td>64</td>\n",
       "      <td>0.32</td>\n",
       "    </tr>\n",
       "    <tr>\n",
       "      <th>2</th>\n",
       "      <td>banana</td>\n",
       "      <td>100</td>\n",
       "      <td>89</td>\n",
       "      <td>0.89</td>\n",
       "    </tr>\n",
       "    <tr>\n",
       "      <th>3</th>\n",
       "      <td>spinach</td>\n",
       "      <td>200</td>\n",
       "      <td>46</td>\n",
       "      <td>0.23</td>\n",
       "    </tr>\n",
       "    <tr>\n",
       "      <th>4</th>\n",
       "      <td>chicken breast</td>\n",
       "      <td>50</td>\n",
       "      <td>80</td>\n",
       "      <td>1.6</td>\n",
       "    </tr>\n",
       "    <tr>\n",
       "      <th>5</th>\n",
       "      <td>peanuts</td>\n",
       "      <td>100</td>\n",
       "      <td>567</td>\n",
       "      <td>5.67</td>\n",
       "    </tr>\n",
       "  </tbody>\n",
       "</table>\n",
       "</div>"
      ],
      "text/plain": [
       "             Food Grams Calories Calories/Gram\n",
       "0           bacon    50      271          5.42\n",
       "1    strawberries   200       64          0.32\n",
       "2          banana   100       89          0.89\n",
       "3         spinach   200       46          0.23\n",
       "4  chicken breast    50       80           1.6\n",
       "5         peanuts   100      567          5.67"
      ]
     },
     "execution_count": 7,
     "metadata": {},
     "output_type": "execute_result"
    }
   ],
   "source": [
    "df['Calories/Gram'] = df['Calories']/df['Grams']\n",
    "df"
   ]
  },
  {
   "cell_type": "markdown",
   "metadata": {},
   "source": [
    "Step 3: Sort the dataframe (descending order)"
   ]
  },
  {
   "cell_type": "code",
   "execution_count": 8,
   "metadata": {},
   "outputs": [
    {
     "data": {
      "text/html": [
       "<div>\n",
       "<style scoped>\n",
       "    .dataframe tbody tr th:only-of-type {\n",
       "        vertical-align: middle;\n",
       "    }\n",
       "\n",
       "    .dataframe tbody tr th {\n",
       "        vertical-align: top;\n",
       "    }\n",
       "\n",
       "    .dataframe thead th {\n",
       "        text-align: right;\n",
       "    }\n",
       "</style>\n",
       "<table border=\"1\" class=\"dataframe\">\n",
       "  <thead>\n",
       "    <tr style=\"text-align: right;\">\n",
       "      <th></th>\n",
       "      <th>Food</th>\n",
       "      <th>Grams</th>\n",
       "      <th>Calories</th>\n",
       "      <th>Calories/Gram</th>\n",
       "    </tr>\n",
       "  </thead>\n",
       "  <tbody>\n",
       "    <tr>\n",
       "      <th>5</th>\n",
       "      <td>peanuts</td>\n",
       "      <td>100</td>\n",
       "      <td>567</td>\n",
       "      <td>5.67</td>\n",
       "    </tr>\n",
       "    <tr>\n",
       "      <th>0</th>\n",
       "      <td>bacon</td>\n",
       "      <td>50</td>\n",
       "      <td>271</td>\n",
       "      <td>5.42</td>\n",
       "    </tr>\n",
       "    <tr>\n",
       "      <th>4</th>\n",
       "      <td>chicken breast</td>\n",
       "      <td>50</td>\n",
       "      <td>80</td>\n",
       "      <td>1.6</td>\n",
       "    </tr>\n",
       "    <tr>\n",
       "      <th>2</th>\n",
       "      <td>banana</td>\n",
       "      <td>100</td>\n",
       "      <td>89</td>\n",
       "      <td>0.89</td>\n",
       "    </tr>\n",
       "    <tr>\n",
       "      <th>1</th>\n",
       "      <td>strawberries</td>\n",
       "      <td>200</td>\n",
       "      <td>64</td>\n",
       "      <td>0.32</td>\n",
       "    </tr>\n",
       "    <tr>\n",
       "      <th>3</th>\n",
       "      <td>spinach</td>\n",
       "      <td>200</td>\n",
       "      <td>46</td>\n",
       "      <td>0.23</td>\n",
       "    </tr>\n",
       "  </tbody>\n",
       "</table>\n",
       "</div>"
      ],
      "text/plain": [
       "             Food Grams Calories Calories/Gram\n",
       "5         peanuts   100      567          5.67\n",
       "0           bacon    50      271          5.42\n",
       "4  chicken breast    50       80           1.6\n",
       "2          banana   100       89          0.89\n",
       "1    strawberries   200       64          0.32\n",
       "3         spinach   200       46          0.23"
      ]
     },
     "execution_count": 8,
     "metadata": {},
     "output_type": "execute_result"
    }
   ],
   "source": [
    "df.sort_values(by='Calories/Gram', ascending=False)"
   ]
  },
  {
   "cell_type": "markdown",
   "metadata": {},
   "source": [
    "We can see that it sorts it with peanuts at the top, followed by bacon, chicken breast, bananas, strawberries and finally, spinach"
   ]
  }
 ],
 "metadata": {
  "kernelspec": {
   "display_name": "Python 3",
   "language": "python",
   "name": "python3"
  },
  "language_info": {
   "codemirror_mode": {
    "name": "ipython",
    "version": 3
   },
   "file_extension": ".py",
   "mimetype": "text/x-python",
   "name": "python",
   "nbconvert_exporter": "python",
   "pygments_lexer": "ipython3",
   "version": "3.8.5"
  }
 },
 "nbformat": 4,
 "nbformat_minor": 4
}
