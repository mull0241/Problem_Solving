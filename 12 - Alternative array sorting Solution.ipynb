{
 "cells": [
  {
   "cell_type": "markdown",
   "metadata": {},
   "source": [
    "# Problem"
   ]
  },
  {
   "cell_type": "markdown",
   "metadata": {},
   "source": [
    "Given an array of integers, print the array in alternating min/max order. The first element should be the first maximum, second element should be the first minimum, third element should be second maximum, etc.\n",
    " \n",
    "For example:\n",
    "\n",
    "#Given the following array:\n",
    "    \n",
    "arr[] = [10, 2, 11, 3, 7, 4, 1]   \n",
    "\n",
    "#Your function should return:\n",
    "\n",
    "11, 1, 10, 2, 7, 3, 4\n",
    "\n"
   ]
  },
  {
   "cell_type": "code",
   "execution_count": null,
   "metadata": {},
   "outputs": [],
   "source": [
    "# Define a function to print our alternate sorted values. Feeding in array (arr) and the length of the array (n):\n",
    "def altSort(arr, n): \n",
    "    #Initial sort of the array, will default to sorting in ascending order\n",
    "    arr.sort()  \n",
    "  \n",
    "    # While loop to print last (max) element\n",
    "    # first, then first (min) element, then  \n",
    "    # second last element (second max) etc\n",
    "    # Defining range, loop from 0 to array length\n",
    "    i = 0\n",
    "    j = n-1\n",
    "      \n",
    "    while (i < j):  \n",
    "        #Our maxes -- print last element, second to last element, etc\n",
    "        print(arr[j], end =\" \") \n",
    "        j-= 1\n",
    "        #Our mins -- print first element, second to first element, etc\n",
    "        print(arr[i], end =\" \") \n",
    "        i+= 1\n",
    "  \n",
    "    # If the total elements in array sum to odd #  \n",
    "    # then we'll need to print the remaining middle element\n",
    "    if (n % 2 != 0):\n",
    "        print(arr[i])  \n",
    "  \n",
    "  \n",
    "# Based on our question prompt, can feed the following into function: \n",
    "arr = [10, 2, 11, 3, 7, 4, 1]\n",
    "n = len(arr) \n",
    "# Run the function\n",
    "altSort(arr, n)  "
   ]
  },
  {
   "cell_type": "markdown",
   "metadata": {},
   "source": [
    "Let's start by creating a general definition that can then be applied to any array of our choosing..."
   ]
  },
  {
   "cell_type": "code",
   "execution_count": 6,
   "metadata": {},
   "outputs": [],
   "source": [
    "def AlternativeSorter(arr, n): \n",
    "    arr.sort()  \n",
    "    i = 0\n",
    "    j = n-1\n",
    "    while (i < j):  \n",
    "        #We can start with the maxes-- print last element, second to last element, etc\n",
    "        print(arr[j], end =\" \") \n",
    "        j-= 1\n",
    "        #Then focus on the minimums\n",
    "        print(arr[i], end =\" \") \n",
    "        i+= 1\n",
    "  \n",
    "    # Lastly, if the array has an odd number of values, the following will print the middle number\n",
    "    if (n % 2 != 0):\n",
    "        print(arr[i])  "
   ]
  },
  {
   "cell_type": "code",
   "execution_count": 7,
   "metadata": {},
   "outputs": [],
   "source": [
    "n = len(arr) "
   ]
  },
  {
   "cell_type": "code",
   "execution_count": 8,
   "metadata": {},
   "outputs": [],
   "source": [
    "arr = [10, 2, 11, 3, 7, 4, 1]"
   ]
  },
  {
   "cell_type": "code",
   "execution_count": 9,
   "metadata": {},
   "outputs": [
    {
     "name": "stdout",
     "output_type": "stream",
     "text": [
      "11 1 10 2 7 3 4\n"
     ]
    }
   ],
   "source": [
    "AlternativeSorter(arr, n) "
   ]
  },
  {
   "cell_type": "markdown",
   "metadata": {},
   "source": [
    "Let's test it using a more complex array..."
   ]
  },
  {
   "cell_type": "code",
   "execution_count": 12,
   "metadata": {},
   "outputs": [],
   "source": [
    "p = len(arr2) "
   ]
  },
  {
   "cell_type": "code",
   "execution_count": 13,
   "metadata": {},
   "outputs": [],
   "source": [
    "arr2 = [9999, 0.85, 345, 1/2, 66.667, 120000, 2, 0.0000045, 11, 9753]"
   ]
  },
  {
   "cell_type": "code",
   "execution_count": 15,
   "metadata": {},
   "outputs": [
    {
     "name": "stdout",
     "output_type": "stream",
     "text": [
      "120000 4.5e-06 9999 0.5 9753 0.85 345 2 66.667 11 "
     ]
    }
   ],
   "source": [
    "AlternativeSorter(arr2, p) "
   ]
  },
  {
   "cell_type": "markdown",
   "metadata": {},
   "source": [
    "Looks like our sorter is performing as expected"
   ]
  }
 ],
 "metadata": {
  "kernelspec": {
   "display_name": "Python 3",
   "language": "python",
   "name": "python3"
  },
  "language_info": {
   "codemirror_mode": {
    "name": "ipython",
    "version": 3
   },
   "file_extension": ".py",
   "mimetype": "text/x-python",
   "name": "python",
   "nbconvert_exporter": "python",
   "pygments_lexer": "ipython3",
   "version": "3.8.5"
  }
 },
 "nbformat": 4,
 "nbformat_minor": 4
}
