{
 "cells": [
  {
   "cell_type": "markdown",
   "metadata": {},
   "source": [
    "# Problem"
   ]
  },
  {
   "cell_type": "markdown",
   "metadata": {},
   "source": [
    "Suppose you have the following dataset which contains which contains (1st tab) a list of items purchased by a given user, (2nd tab) a mapping which maps the item_id to the item name and price.\n",
    "\n",
    "\n",
    "    \n",
    "Can you format the data into a matrix with users in rows and the items they purchased into columns along with the frequency of the purchase for each type of item?"
   ]
  },
  {
   "cell_type": "markdown",
   "metadata": {},
   "source": [
    "For example:\n",
    "    \n",
    "Input : [6, 5, 4, 4]\n",
    "    \n",
    "Output : true\n",
    "    \n",
    "\n",
    "    \n",
    "Input : [5, 5, 5, 4]\n",
    "    \n",
    "Output : true\n",
    "    \n",
    "\n",
    "    \n",
    "Input : [5, 15, 20, 10]\n",
    "    \n",
    "Output : false\n"
   ]
  },
  {
   "cell_type": "code",
   "execution_count": 2,
   "metadata": {},
   "outputs": [],
   "source": [
    "import pandas as pd\n",
    "import numpy as np\n",
    "import warnings\n",
    "warnings.filterwarnings(\"ignore\")"
   ]
  },
  {
   "cell_type": "markdown",
   "metadata": {},
   "source": [
    "### Solution"
   ]
  },
  {
   "cell_type": "code",
   "execution_count": 7,
   "metadata": {},
   "outputs": [],
   "source": [
    "# defining a function to check if an array is monotonic\n",
    "def isArrayMonotonic(array): \n",
    "    \n",
    "    #checks if array has all increasing or decreasing elements\n",
    "    return (all(array[i] <= array[i + 1] for i in range(len(array) - 1)) or\n",
    "            all(array[i] >= array[i + 1] for i in range(len(array) - 1))\n",
    "           ) "
   ]
  },
  {
   "cell_type": "code",
   "execution_count": 9,
   "metadata": {},
   "outputs": [
    {
     "name": "stdout",
     "output_type": "stream",
     "text": [
      "True\n"
     ]
    }
   ],
   "source": [
    "array = [6, 5, 4, 4] \n",
    "  \n",
    "rint(isArrayMonotonic(array))"
   ]
  }
 ],
 "metadata": {
  "kernelspec": {
   "display_name": "Python 3",
   "language": "python",
   "name": "python3"
  },
  "language_info": {
   "codemirror_mode": {
    "name": "ipython",
    "version": 3
   },
   "file_extension": ".py",
   "mimetype": "text/x-python",
   "name": "python",
   "nbconvert_exporter": "python",
   "pygments_lexer": "ipython3",
   "version": "3.8.5"
  }
 },
 "nbformat": 4,
 "nbformat_minor": 4
}
