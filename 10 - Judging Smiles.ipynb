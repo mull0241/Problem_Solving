{
 "cells": [
  {
   "cell_type": "markdown",
   "metadata": {},
   "source": [
    "# Problem"
   ]
  },
  {
   "cell_type": "markdown",
   "metadata": {},
   "source": [
    "It's often hypothesized (and backed in some studies) that smiling can increase leniency, or reduce the effects of wrongdoing among other benefits.\n",
    "\n",
    "\n",
    "    \n",
    "A 1995 study by Marianne LaFrance & Marvin Hecht produced a dataset containing 4 different types of smiles, as well as the judge's leniency against judging wrongdoing when seeing these smiles.\n",
    "\n",
    "\n",
    "    \n",
    "The dataset can be interpreted as follows:\n",
    "\n",
    "\n",
    "    \n",
    "\n",
    "InterviewQs\n",
    "Judging smiles\n",
    "Statistics Box Plot Data Visualization External Dataset\n",
    " Forward this email to a friend or colleague and challenge them to solve it.\n",
    "Hi, \n",
    "It's often hypothesized (and backed in some studies) that smiling can increase leniency, or reduce the effects of wrongdoing among other benefits.\n",
    "\n",
    "\n",
    "    \n",
    "A 1995 study by Marianne LaFrance & Marvin Hecht produced a dataset containing 4 different types of smiles, as well as the judge's leniency against judging wrongdoing when seeing these smiles.\n",
    "\n",
    "\n",
    "    \n",
    "The dataset can be interpreted as follows:\n",
    "\n",
    "\n",
    "    \n",
    "Smile:\n",
    "\n",
    "  \n",
    "1 - false smile\n",
    " \n",
    "2 - is felt smile\n",
    "    \n",
    "3 - is miserable smile\n",
    "    \n",
    "4 - is neutral control\n",
    "\n",
    "   \n",
    "**Leniency**: a measure of how lenient the judgments were, higher means the judges were more lenient"
   ]
  },
  {
   "cell_type": "markdown",
   "metadata": {},
   "source": [
    "### Tasks"
   ]
  },
  {
   "cell_type": "markdown",
   "metadata": {},
   "source": [
    "A) Plot the leniency by smile type in a parallel box plot <br>\n",
    "B) Based on the box plot above, which smile condition resulted in the highest leniency? <br>\n",
    "C) Is the median leniency for the false smile  lower than the 75th percentile leniency score for the neutral expression?"
   ]
  },
  {
   "cell_type": "markdown",
   "metadata": {},
   "source": [
    "##### Importing the necessary libraries"
   ]
  },
  {
   "cell_type": "code",
   "execution_count": 1,
   "metadata": {},
   "outputs": [],
   "source": [
    "import matplotlib.pyplot as plt\n",
    "import numpy as np\n",
    "import pandas as pd\n",
    "import seaborn as sns"
   ]
  },
  {
   "cell_type": "markdown",
   "metadata": {},
   "source": [
    "##### Importing the dataset"
   ]
  },
  {
   "cell_type": "code",
   "execution_count": 2,
   "metadata": {},
   "outputs": [],
   "source": [
    "df = pd.read_csv('https://raw.githubusercontent.com/erood/interviewqs.com_code_snippets/master/Datasets/smile_leniency.csv')"
   ]
  },
  {
   "cell_type": "markdown",
   "metadata": {},
   "source": [
    "#### Task A"
   ]
  },
  {
   "cell_type": "code",
   "execution_count": 5,
   "metadata": {},
   "outputs": [
    {
     "data": {
      "text/plain": [
       "<AxesSubplot:title={'center':'leniency'}, xlabel='smile'>"
      ]
     },
     "execution_count": 5,
     "metadata": {},
     "output_type": "execute_result"
    },
    {
     "data": {
      "image/png": "[encoded data removed]",
      "text/plain": [
       "<Figure size 1440x720 with 1 Axes>"
      ]
     },
     "metadata": {
      "needs_background": "light"
     },
     "output_type": "display_data"
    }
   ],
   "source": [
    "df.boxplot('leniency', by='smile', figsize=(20, 10))"
   ]
  },
  {
   "cell_type": "markdown",
   "metadata": {},
   "source": [
    "#### Task B"
   ]
  },
  {
   "cell_type": "markdown",
   "metadata": {},
   "source": [
    "Based on the above box plots, the judges were the most lenient on category 1 smiles, or the \"false smiles\""
   ]
  },
  {
   "cell_type": "markdown",
   "metadata": {},
   "source": [
    "#### Task C"
   ]
  },
  {
   "cell_type": "markdown",
   "metadata": {},
   "source": [
    "The median leniency for the false smile, represented by the green line in the first boxplot, is *higher* than the 75th percentile leniency score for the neutral expression, which is the top of the box in the fourth boxplot. As the above plots show, the median leniency score for false smiles appears to be about 6.5, while the 75th percentile leniency score for the neutral expression is just under 5.   "
   ]
  }
 ],
 "metadata": {
  "kernelspec": {
   "display_name": "Python 3",
   "language": "python",
   "name": "python3"
  },
  "language_info": {
   "codemirror_mode": {
    "name": "ipython",
    "version": 3
   },
   "file_extension": ".py",
   "mimetype": "text/x-python",
   "name": "python",
   "nbconvert_exporter": "python",
   "pygments_lexer": "ipython3",
   "version": "3.8.5"
  }
 },
 "nbformat": 4,
 "nbformat_minor": 4
}
