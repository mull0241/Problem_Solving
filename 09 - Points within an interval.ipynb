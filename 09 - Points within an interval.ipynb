{
 "cells": [
  {
   "cell_type": "markdown",
   "metadata": {},
   "source": [
    "# Problem"
   ]
  },
  {
   "cell_type": "markdown",
   "metadata": {},
   "source": [
    "\n",
    "Suppose you are given P, which is list of j integer intervals, where j is the number of intervals. The intervals are in a format [a, b].\n",
    "\n",
    "Given an integer z, can you return the number of overlapping intervals for point z?"
   ]
  },
  {
   "cell_type": "markdown",
   "metadata": {},
   "source": [
    "For example:\n",
    "\n",
    "#Input: <br>\n",
    "P =  [[0, 2], [3, 7], [4, 6], [7, 8], [1 ,5]] <br>\n",
    "z = 5 <br>\n",
    "#Output: <br>\n",
    "#3 <br>\n",
    "#At z = 5, there are 3 intervals that overlap. The intervals are: [3, 7], [4, 6], and [1, 5]"
   ]
  },
  {
   "cell_type": "markdown",
   "metadata": {},
   "source": [
    "**Create a definition that will loop through to test each interval**"
   ]
  },
  {
   "cell_type": "code",
   "execution_count": 4,
   "metadata": {},
   "outputs": [],
   "source": [
    "def overlappingintervals(P, z) :\n",
    "    j = len(P) \n",
    "    count = 0\n",
    "    for i in range(j): \n",
    "        left_side = P[i][0] \n",
    "        right_side = P[i][1] \n",
    "        if (z >= left_side and z <= right_side) : \n",
    "            count = count + 1\n",
    "          \n",
    "    return count; "
   ]
  },
  {
   "cell_type": "markdown",
   "metadata": {},
   "source": [
    "**Testing the definition**"
   ]
  },
  {
   "cell_type": "code",
   "execution_count": 6,
   "metadata": {},
   "outputs": [
    {
     "name": "stdout",
     "output_type": "stream",
     "text": [
      "4\n"
     ]
    }
   ],
   "source": [
    "P = [[1, 5], [2, 7], [5, 11], [4, 8], [7 ,12]]\n",
    "z = 5\n",
    "print((overlappingintervals(P, z))) "
   ]
  },
  {
   "cell_type": "markdown",
   "metadata": {},
   "source": [
    "**Applying definition to the example given in question**"
   ]
  },
  {
   "cell_type": "code",
   "execution_count": 8,
   "metadata": {},
   "outputs": [
    {
     "name": "stdout",
     "output_type": "stream",
     "text": [
      "3\n"
     ]
    }
   ],
   "source": [
    "P =  [[0, 2], [3, 7], [4, 6], [7, 8], [1 ,5]]\n",
    "z = 5\n",
    "print((overlappingintervals(P, z))) "
   ]
  }
 ],
 "metadata": {
  "kernelspec": {
   "display_name": "Python 3",
   "language": "python",
   "name": "python3"
  },
  "language_info": {
   "codemirror_mode": {
    "name": "ipython",
    "version": 3
   },
   "file_extension": ".py",
   "mimetype": "text/x-python",
   "name": "python",
   "nbconvert_exporter": "python",
   "pygments_lexer": "ipython3",
   "version": "3.8.5"
  }
 },
 "nbformat": 4,
 "nbformat_minor": 4
}
