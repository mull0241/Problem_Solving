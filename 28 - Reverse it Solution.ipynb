{
 "cells": [
  {
   "cell_type": "markdown",
   "metadata": {},
   "source": [
    "# Problem"
   ]
  },
  {
   "cell_type": "markdown",
   "metadata": {},
   "source": [
    "Suppose you're given an array of strings, s. Write a function using Python to take each string in the array and reverse it.\n",
    "For example:\n",
    "    \n",
    "#Given the following:\n",
    "    \n",
    "s = ['rac', 'talf', 'tot', 'tob']\n",
    "    \n",
    "\n",
    "    \n",
    "#Your function should return:\n",
    "    \n",
    "s = ['car', 'flat', 'tot', 'bot']\n",
    "\n"
   ]
  },
  {
   "cell_type": "code",
   "execution_count": 1,
   "metadata": {},
   "outputs": [],
   "source": [
    "def reverse(string): \n",
    "    #create array to store output\n",
    "    output = []\n",
    "    #loop through each element in the array\n",
    "    for i in string: \n",
    "        #set variable to store characters\n",
    "        str = \"\" \n",
    "        #loop through each letter in a given array element\n",
    "        for j in i:\n",
    "            #reverse it\n",
    "            str = j + str\n",
    "        output.append(str)\n",
    "    return output\n",
    "\n"
   ]
  },
  {
   "cell_type": "code",
   "execution_count": 3,
   "metadata": {},
   "outputs": [],
   "source": [
    "string = ['rac', 'talf', 'tot', 'tob']\n"
   ]
  },
  {
   "cell_type": "code",
   "execution_count": 4,
   "metadata": {},
   "outputs": [
    {
     "data": {
      "text/plain": [
       "['car', 'flat', 'tot', 'bot']"
      ]
     },
     "execution_count": 4,
     "metadata": {},
     "output_type": "execute_result"
    }
   ],
   "source": [
    "reverse(string)"
   ]
  },
  {
   "cell_type": "code",
   "execution_count": null,
   "metadata": {},
   "outputs": [],
   "source": []
  },
  {
   "cell_type": "code",
   "execution_count": null,
   "metadata": {},
   "outputs": [],
   "source": []
  },
  {
   "cell_type": "code",
   "execution_count": null,
   "metadata": {},
   "outputs": [],
   "source": []
  }
 ],
 "metadata": {
  "kernelspec": {
   "display_name": "Python 3",
   "language": "python",
   "name": "python3"
  },
  "language_info": {
   "codemirror_mode": {
    "name": "ipython",
    "version": 3
   },
   "file_extension": ".py",
   "mimetype": "text/x-python",
   "name": "python",
   "nbconvert_exporter": "python",
   "pygments_lexer": "ipython3",
   "version": "3.8.5"
  }
 },
 "nbformat": 4,
 "nbformat_minor": 4
}
