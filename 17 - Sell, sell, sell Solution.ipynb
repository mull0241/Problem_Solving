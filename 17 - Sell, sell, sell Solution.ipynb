{
 "cells": [
  {
   "cell_type": "markdown",
   "metadata": {},
   "source": [
    "# Problem"
   ]
  },
  {
   "cell_type": "markdown",
   "metadata": {},
   "source": [
    "Suppose we are given an array of n integers which represent the value of some stock over time. Assuming you are allowed to buy the stock exactly once and sell the stock once, what is the maximum profit you can make? Can you write an algorithm that takes in an array of values and returns the maximum profit?\n",
    "    \n",
    "\n",
    "\n",
    "    \n",
    "    \n",
    " For example, if you are given the following array:\n",
    "\n",
    "\n",
    "    \n",
    "    \n",
    "[2, 7, 1, 8, 2, 8, 14, 25, 14, 0, 4, 5]\n",
    "    \n",
    "\n",
    "\n",
    "    \n",
    "\n",
    "    \n",
    " The maximum profit you can make is 24 because you would buy the stock when its price is 1 and sell when it's 25. Note that we cannot make 25, because the stock is priced at 0 after it is priced at 25 (e.g you can't sell before you buy)."
   ]
  },
  {
   "cell_type": "markdown",
   "metadata": {},
   "source": [
    "## Solution"
   ]
  },
  {
   "cell_type": "markdown",
   "metadata": {},
   "source": [
    "We need to create a definition which will assign a variable the maximum profit (max). It will then go through each set of pairs, starting on the left and whenever larger value for the maximum profit is discovered, it will replace the variable with the new value.  "
   ]
  },
  {
   "cell_type": "code",
   "execution_count": 1,
   "metadata": {},
   "outputs": [],
   "source": [
    "def profit(n):\n",
    "   maxprofit = 0;\n",
    "   for i in range(0, len(n)):\n",
    "       for j in range (i + 1, len(n)):\n",
    "           maxprofit = max(maxprofit, n[j] - n[i])\n",
    "   return maxprofit"
   ]
  },
  {
   "cell_type": "markdown",
   "metadata": {},
   "source": [
    "Now we can test the example array using our definition..."
   ]
  },
  {
   "cell_type": "code",
   "execution_count": 2,
   "metadata": {},
   "outputs": [
    {
     "data": {
      "text/plain": [
       "24"
      ]
     },
     "execution_count": 2,
     "metadata": {},
     "output_type": "execute_result"
    }
   ],
   "source": [
    "profit([2, 7, 1, 8, 2, 8, 14, 25, 14, 0, 4, 5])"
   ]
  },
  {
   "cell_type": "markdown",
   "metadata": {},
   "source": [
    "Our definition appears to be working as expected"
   ]
  }
 ],
 "metadata": {
  "kernelspec": {
   "display_name": "Python 3",
   "language": "python",
   "name": "python3"
  },
  "language_info": {
   "codemirror_mode": {
    "name": "ipython",
    "version": 3
   },
   "file_extension": ".py",
   "mimetype": "text/x-python",
   "name": "python",
   "nbconvert_exporter": "python",
   "pygments_lexer": "ipython3",
   "version": "3.8.5"
  }
 },
 "nbformat": 4,
 "nbformat_minor": 4
}
