{
 "cells": [
  {
   "cell_type": "markdown",
   "metadata": {},
   "source": [
    "# Problem"
   ]
  },
  {
   "cell_type": "markdown",
   "metadata": {},
   "source": [
    "Suppose Candy Company XYZ produces lollipops. The company claims that 30% of the lollipops are cherry, 60% are grape, and 10% are lime.\n",
    "\n",
    "\n",
    "    \n",
    "Given a random sampling of 100 lollipops with 50 cherry, 45 grape, and 5 lime, determine whether or not this is consistent with the company's claim. Use a 0.05 level of significance."
   ]
  },
  {
   "cell_type": "code",
   "execution_count": 1,
   "metadata": {},
   "outputs": [],
   "source": [
    "import numpy as np\n",
    "import scipy.stats as stats\n",
    "import scipy"
   ]
  },
  {
   "cell_type": "markdown",
   "metadata": {},
   "source": [
    "### Step 1: Stating the Hypotheses:"
   ]
  },
  {
   "cell_type": "markdown",
   "metadata": {},
   "source": [
    "**Null hypothesis:** The proportion of cherry, grape, and lime is 30%, 60% and 10%, respectively. <br>\n",
    "**Alternate hypothesis:** The proportion of cherry, grape, and lime != 30%, 60% and 10%, respectively."
   ]
  },
  {
   "cell_type": "markdown",
   "metadata": {},
   "source": [
    "### Step 2: Calculate the Degrees of Freedom"
   ]
  },
  {
   "cell_type": "markdown",
   "metadata": {},
   "source": [
    "Degrees of Freedom = k - 1 <br>\n",
    "There are three observations, or k = 3 <br>\n",
    "Therefore, there degrees of freedom = 2 (3 -1)"
   ]
  },
  {
   "cell_type": "markdown",
   "metadata": {},
   "source": [
    "### Step 3: Calculate the expected values"
   ]
  },
  {
   "cell_type": "markdown",
   "metadata": {},
   "source": [
    "The expected values is calculated by the expected percent per 100 lollipops produced"
   ]
  },
  {
   "cell_type": "code",
   "execution_count": 2,
   "metadata": {},
   "outputs": [],
   "source": [
    "ex_cherry = 100 * 0.30\n",
    "ex_grape = 100 * 0.60\n",
    "ex_lime = 100 * 0.10"
   ]
  },
  {
   "cell_type": "code",
   "execution_count": 3,
   "metadata": {},
   "outputs": [],
   "source": [
    "# recording the observed values\n",
    "ob_cherry = 50\n",
    "ob_grape = 45\n",
    "ob_lime = 5"
   ]
  },
  {
   "cell_type": "markdown",
   "metadata": {},
   "source": [
    "### Step 4: Calculate chi-square test statistic"
   ]
  },
  {
   "cell_type": "markdown",
   "metadata": {},
   "source": [
    "The chi-squared test statistic is calculated as follows: \n",
    "\n",
    "$\\chi^2$ = $\\sum\\frac{({Observations-Expected Values})^2}{Expected Values}$\n",
    "\n",
    "where $\\chi^2$ is the chi square value"
   ]
  },
  {
   "cell_type": "code",
   "execution_count": 4,
   "metadata": {},
   "outputs": [],
   "source": [
    "chi = ((ob_cherry - ex_cherry)*(ob_cherry - ex_cherry) / ex_cherry) + ((ob_grape - ex_grape)*(ob_grape - ex_grape) / ex_grape) + ((ob_lime - ex_lime)*(ob_lime - ex_lime) / ex_lime)"
   ]
  },
  {
   "cell_type": "code",
   "execution_count": 5,
   "metadata": {},
   "outputs": [
    {
     "data": {
      "text/plain": [
       "19.583333333333336"
      ]
     },
     "execution_count": 5,
     "metadata": {},
     "output_type": "execute_result"
    }
   ],
   "source": [
    "chi"
   ]
  },
  {
   "cell_type": "markdown",
   "metadata": {},
   "source": [
    "Here, we calculated the chi-square value manually, but it does not mean much to us.  We need to look up its corresponding p-value on a Chi-Square table with 2 degrees of freedom  This will give us a p-value of 0.0001.  Alternatively, we can use a statistical package to do the work for us in the following step...  "
   ]
  },
  {
   "cell_type": "markdown",
   "metadata": {},
   "source": [
    "### Step 5: Calculate p value"
   ]
  },
  {
   "cell_type": "code",
   "execution_count": 6,
   "metadata": {},
   "outputs": [
    {
     "name": "stdout",
     "output_type": "stream",
     "text": [
      "At 5 % level of significance, the p-value is 0.0000559\n"
     ]
    }
   ],
   "source": [
    "observed_values = np.array([ob_cherry, ob_grape, ob_lime])\n",
    "n = observed_values.sum()\n",
    "\n",
    "expected_values = np.array([ex_cherry, ex_grape, ex_lime])\n",
    "\n",
    "chi_square_stat, p_value = stats.chisquare(observed_values, f_exp=expected_values)\n",
    "\n",
    "print('At 5 %s level of significance, the p-value is %1.7f' %('%', p_value))"
   ]
  },
  {
   "cell_type": "markdown",
   "metadata": {},
   "source": [
    "### Step 6:  Decide to reject or accept null hypothesis"
   ]
  },
  {
   "cell_type": "markdown",
   "metadata": {},
   "source": [
    "The p value is 0.0000559 and is << than 0.05, therefore we cannot accept the null hypothesis. The low p-value is telling us that our observed distribution in our random sampling has a very low probably of being due to chance"
   ]
  }
 ],
 "metadata": {
  "kernelspec": {
   "display_name": "Python 3",
   "language": "python",
   "name": "python3"
  },
  "language_info": {
   "codemirror_mode": {
    "name": "ipython",
    "version": 3
   },
   "file_extension": ".py",
   "mimetype": "text/x-python",
   "name": "python",
   "nbconvert_exporter": "python",
   "pygments_lexer": "ipython3",
   "version": "3.8.5"
  }
 },
 "nbformat": 4,
 "nbformat_minor": 4
}
