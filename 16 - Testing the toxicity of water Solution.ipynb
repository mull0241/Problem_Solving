{
 "cells": [
  {
   "cell_type": "markdown",
   "metadata": {},
   "source": [
    "# Problem"
   ]
  },
  {
   "cell_type": "markdown",
   "metadata": {},
   "source": [
    "Suppose you're trying to measure the Selenium toxicity in your tap water, and obtain the following values for each day: <br>\n",
    "    \n",
    "day\tselenium  <br> \n",
    "1\t   0.051 <br>\n",
    "2\t    0.0505 <br>\n",
    "3\t    0.049 <br>\n",
    "4\t    0.0516 <br>\n",
    "5\t    0.052 <br>\n",
    "6\t    0.0508 <br>\n",
    "7\t    0.0506 <br>\n",
    "\n",
    "    \n",
    "The maxiumum level for safe drinking water is 0.05 mg/L -- using this as your alpha, does the selenium tap level exceed the legal limit?"
   ]
  },
  {
   "cell_type": "markdown",
   "metadata": {},
   "source": [
    "## Solution:"
   ]
  },
  {
   "cell_type": "code",
   "execution_count": 1,
   "metadata": {},
   "outputs": [],
   "source": [
    "import pandas as pd\n",
    "from scipy.stats import ttest_1samp"
   ]
  },
  {
   "cell_type": "markdown",
   "metadata": {},
   "source": [
    "To start, we will build a dataframe and fill it with the data given:"
   ]
  },
  {
   "cell_type": "code",
   "execution_count": 3,
   "metadata": {},
   "outputs": [],
   "source": [
    "df = pd.DataFrame(columns=['day', 'selenium'])"
   ]
  },
  {
   "cell_type": "code",
   "execution_count": 4,
   "metadata": {},
   "outputs": [],
   "source": [
    "df = df.append({'day': '1', 'selenium': 0.051}, ignore_index=True)\n",
    "df = df.append({'day': '2', 'selenium': 0.0505}, ignore_index=True)\n",
    "df = df.append({'day': '3', 'selenium': 0.049}, ignore_index=True)\n",
    "df = df.append({'day': '4', 'selenium': 0.0516}, ignore_index=True)\n",
    "df = df.append({'day': '5', 'selenium': 0.052}, ignore_index=True)\n",
    "df = df.append({'day': '6', 'selenium': 0.0508}, ignore_index=True)\n",
    "df = df.append({'day': '7', 'selenium': 0.0506}, ignore_index=True)"
   ]
  },
  {
   "cell_type": "code",
   "execution_count": 5,
   "metadata": {},
   "outputs": [
    {
     "data": {
      "text/html": [
       "<div>\n",
       "<style scoped>\n",
       "    .dataframe tbody tr th:only-of-type {\n",
       "        vertical-align: middle;\n",
       "    }\n",
       "\n",
       "    .dataframe tbody tr th {\n",
       "        vertical-align: top;\n",
       "    }\n",
       "\n",
       "    .dataframe thead th {\n",
       "        text-align: right;\n",
       "    }\n",
       "</style>\n",
       "<table border=\"1\" class=\"dataframe\">\n",
       "  <thead>\n",
       "    <tr style=\"text-align: right;\">\n",
       "      <th></th>\n",
       "      <th>day</th>\n",
       "      <th>selenium</th>\n",
       "    </tr>\n",
       "  </thead>\n",
       "  <tbody>\n",
       "    <tr>\n",
       "      <th>0</th>\n",
       "      <td>1</td>\n",
       "      <td>0.0510</td>\n",
       "    </tr>\n",
       "    <tr>\n",
       "      <th>1</th>\n",
       "      <td>2</td>\n",
       "      <td>0.0505</td>\n",
       "    </tr>\n",
       "    <tr>\n",
       "      <th>2</th>\n",
       "      <td>3</td>\n",
       "      <td>0.0490</td>\n",
       "    </tr>\n",
       "    <tr>\n",
       "      <th>3</th>\n",
       "      <td>4</td>\n",
       "      <td>0.0516</td>\n",
       "    </tr>\n",
       "    <tr>\n",
       "      <th>4</th>\n",
       "      <td>5</td>\n",
       "      <td>0.0520</td>\n",
       "    </tr>\n",
       "    <tr>\n",
       "      <th>5</th>\n",
       "      <td>6</td>\n",
       "      <td>0.0508</td>\n",
       "    </tr>\n",
       "    <tr>\n",
       "      <th>6</th>\n",
       "      <td>7</td>\n",
       "      <td>0.0506</td>\n",
       "    </tr>\n",
       "  </tbody>\n",
       "</table>\n",
       "</div>"
      ],
      "text/plain": [
       "  day  selenium\n",
       "0   1    0.0510\n",
       "1   2    0.0505\n",
       "2   3    0.0490\n",
       "3   4    0.0516\n",
       "4   5    0.0520\n",
       "5   6    0.0508\n",
       "6   7    0.0506"
      ]
     },
     "execution_count": 5,
     "metadata": {},
     "output_type": "execute_result"
    }
   ],
   "source": [
    "df"
   ]
  },
  {
   "cell_type": "markdown",
   "metadata": {},
   "source": [
    "### Step 1: Stating the Hypotheses:"
   ]
  },
  {
   "cell_type": "markdown",
   "metadata": {},
   "source": [
    "Null Hypothesis (H0): Sample mean (x̅) <= Hypothesized Population mean (µ) <br>\n",
    "Alternate Hypothesis(H1): Sample mean (x̅) > Hypothesized Population mean (µ) <br>\n",
    "<br>\n",
    "Therefore: <br>\n",
    "    H0 <= 0.05mg/L <br>\n",
    "    H1 > 0.05mg/L"
   ]
  },
  {
   "cell_type": "markdown",
   "metadata": {},
   "source": [
    "We want to know if the selenium levels exceed the legal limit, therefore we are only interested if, statistically speaking, the selenium levels are greater than 0.05mg/L. To test this hypothesis, we will use a One-sided T-test."
   ]
  },
  {
   "cell_type": "markdown",
   "metadata": {},
   "source": [
    "### Step 2: Compute the Test Statistic:"
   ]
  },
  {
   "cell_type": "markdown",
   "metadata": {},
   "source": [
    "The chi-squared test statistic is calculated as follows: \n",
    "    \n",
    "    \n",
    "\n",
    "$$t = \\frac{Z}{s} =  \\frac{\\bar{X} - μ}{\\frac{\\hat{\\sigma}}{\\sqrt{n}}}$$\n",
    "\n",
    "where s is the standard error"
   ]
  },
  {
   "cell_type": "markdown",
   "metadata": {},
   "source": [
    "### Step 3: Find the T-critical statistic and the p-value "
   ]
  },
  {
   "cell_type": "markdown",
   "metadata": {},
   "source": [
    "Since we are using a one-sided t-test, we need to divide the calculated p-value by 2, since the ttest_1samp will perform a two-sided test by default"
   ]
  },
  {
   "cell_type": "code",
   "execution_count": 6,
   "metadata": {},
   "outputs": [
    {
     "name": "stdout",
     "output_type": "stream",
     "text": [
      "t Statistic:  2.173499949434694\n",
      "P Value:  0.03635505933982123\n"
     ]
    }
   ],
   "source": [
    "x =  df['selenium']\n",
    "tscore, pvalue = ttest_1samp(x, popmean=0.05)\n",
    "print(\"t Statistic: \", tscore)  \n",
    "print(\"P Value: \", pvalue/2)"
   ]
  },
  {
   "cell_type": "markdown",
   "metadata": {},
   "source": [
    "### Step 4: Decide to reject or accept null hypothesis"
   ]
  },
  {
   "cell_type": "markdown",
   "metadata": {},
   "source": [
    "The p value is 0.036 and is < than 0.05, therefore we cannot accept the null hypothesis. The conclusion would be that the selenium level in the tap water **exceeds** the legal limit"
   ]
  }
 ],
 "metadata": {
  "kernelspec": {
   "display_name": "Python 3",
   "language": "python",
   "name": "python3"
  },
  "language_info": {
   "codemirror_mode": {
    "name": "ipython",
    "version": 3
   },
   "file_extension": ".py",
   "mimetype": "text/x-python",
   "name": "python",
   "nbconvert_exporter": "python",
   "pygments_lexer": "ipython3",
   "version": "3.8.5"
  }
 },
 "nbformat": 4,
 "nbformat_minor": 4
}
